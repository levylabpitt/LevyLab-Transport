{
 "cells": [
  {
   "cell_type": "code",
   "execution_count": 2,
   "metadata": {},
   "outputs": [],
   "source": [
    "import zmq\n",
    "import json\n",
    "import numpy as np"
   ]
  },
  {
   "cell_type": "code",
   "execution_count": 3,
   "metadata": {},
   "outputs": [],
   "source": [
    "class NumpyEncoder(json.JSONEncoder):\n",
    "    \"\"\" Extends JSONEncoder to serialize numpy arrays.\n",
    "    To use this encoder: json.dumps(<numpy_array>, cls=NumpyEncoder)\n",
    "\n",
    "    http://stackoverflow.com/questions/3488934/simplejson-and-numpy-array\n",
    "    \"\"\"\n",
    "\n",
    "    def default(self, obj):\n",
    "        \"\"\"If input object is an ndarray it will be converted into a dict\n",
    "        holding dtype, shape and the data.\n",
    "\n",
    "        :param obj: object to be encoded\n",
    "        \"\"\"\n",
    "        if isinstance(obj, np.ndarray):\n",
    "            if obj.flags['C_CONTIGUOUS']:\n",
    "                obj_data = obj.data\n",
    "            else:\n",
    "                cont_obj = np.ascontiguousarray(obj)\n",
    "                assert(cont_obj.flags['C_CONTIGUOUS'])\n",
    "                obj_data = cont_obj.data\n",
    "            data_json = obj_data.tolist()\n",
    "            # data_b64 = base64.b64encode(obj_data)\n",
    "            return dict(__ndarray__=data_json, dtype=str(obj.dtype), shape=obj.shape)\n",
    "        # Let the base class default method raise the TypeError\n",
    "        return json.JSONEncoder(self, obj)"
   ]
  },
  {
   "cell_type": "code",
   "execution_count": 4,
   "metadata": {},
   "outputs": [],
   "source": [
    "class Test:\n",
    "    def __init__(self):\n",
    "        self.var_int = 42\n",
    "        self.var_double = 12.34\n",
    "        self.var_string = \"Hello World!\"\n",
    "        self.var_bool = True\n",
    "        self.var_nparray = np.array([1, 2, 3, 4, 5])\n",
    "\n",
    "    @staticmethod\n",
    "    def test():\n",
    "        return \"It Works!\"\n",
    "\n",
    "    @staticmethod\n",
    "    def my_sum(a, b):\n",
    "        return a+b"
   ]
  },
  {
   "cell_type": "code",
   "execution_count": 5,
   "metadata": {},
   "outputs": [],
   "source": [
    "# create test object\n",
    "test = Test()"
   ]
  },
  {
   "cell_type": "code",
   "execution_count": 6,
   "metadata": {},
   "outputs": [],
   "source": [
    "# open socket for TCP communication\n",
    "context = zmq.Context()\n",
    "socket = context.socket(zmq.REP)\n",
    "socket.bind(\"tcp://127.0.0.1:5555\")"
   ]
  },
  {
   "cell_type": "code",
   "execution_count": null,
   "metadata": {},
   "outputs": [],
   "source": [
    "while True:\n",
    "    #  Wait for request from client\n",
    "    message = socket.recv()\n",
    "    print(\"Received request: %s\" % message)\n",
    "\n",
    "    try:\n",
    "        r = eval(message)\n",
    "        print(\"Return value: \", r)\n",
    "        print(\"Type: \", type(r))\n",
    "        socket.send(bytearray(json.dumps(r, cls=NumpyEncoder), 'utf-8'))\n",
    "    except NameError:\n",
    "        print(\"except NameError\")\n",
    "        socket.send(b\"Unknown command\")\n",
    "    except SyntaxError:\n",
    "        print(\"except SyntaxError\")\n",
    "        socket.send(b\"Invalid syntax\")\n",
    "    except:\n",
    "        print(\"except\")\n",
    "        socket.send(b\"Unknown error\")\n",
    "        "
   ]
  },
  {
   "cell_type": "code",
   "execution_count": null,
   "metadata": {},
   "outputs": [],
   "source": []
  }
 ],
 "metadata": {
  "kernelspec": {
   "display_name": "Python 3",
   "language": "python",
   "name": "python3"
  },
  "language_info": {
   "codemirror_mode": {
    "name": "ipython",
    "version": 3
   },
   "file_extension": ".py",
   "mimetype": "text/x-python",
   "name": "python",
   "nbconvert_exporter": "python",
   "pygments_lexer": "ipython3",
   "version": "3.8.5"
  }
 },
 "nbformat": 4,
 "nbformat_minor": 4
}
